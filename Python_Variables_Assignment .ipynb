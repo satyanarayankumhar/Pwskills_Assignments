{
 "cells": [
  {
   "cell_type": "markdown",
   "id": "9a9c6296",
   "metadata": {},
   "source": [
    "# Q.1 Write all conventions being followed while declaring a variable."
   ]
  },
  {
   "cell_type": "markdown",
   "id": "eb6901b3",
   "metadata": {},
   "source": [
    "<!-- Rules for Python variables:\n",
    "A variable name must start with a letter or the underscore character.\n",
    "A variable name cannot start with a number.\n",
    "A variable name can only contain alpha-numeric characters and underscores (A-z, 0-9, and _ )\n",
    "Variable names are case-sensitive (age, Age and AGE are three different variables) -->"
   ]
  },
  {
   "cell_type": "code",
   "execution_count": 6,
   "id": "68575bc3",
   "metadata": {},
   "outputs": [
    {
     "data": {
      "text/plain": [
       "'Rules for Python variables:\\n   A variable name must start with a letter or the underscore character.\\n   A variable name cannot start with a number.\\n   A variable name can only contain alpha-numeric characters and underscores (A-z, 0-9, and _ )\\n   Variable names are case-sensitive (age, Age and AGE are three different variables).'"
      ]
     },
     "execution_count": 6,
     "metadata": {},
     "output_type": "execute_result"
    }
   ],
   "source": [
    "\"\"\"Rules for Python variables:\n",
    "   A variable name must start with a letter or the underscore character.\n",
    "   A variable name cannot start with a number.\n",
    "   A variable name can only contain alpha-numeric characters and underscores (A-z, 0-9, and _ )\n",
    "   Variable names are case-sensitive (age, Age and AGE are three different variables).\"\"\""
   ]
  },
  {
   "cell_type": "markdown",
   "id": "088391f4",
   "metadata": {},
   "source": [
    "# Q.2 What will happen if we declare a restricted keyword as a veriable."
   ]
  },
  {
   "cell_type": "code",
   "execution_count": 7,
   "id": "c6993fdc",
   "metadata": {},
   "outputs": [
    {
     "data": {
      "text/plain": [
       "'No,You cannot use keyword as a variable.\\n   Example: Suppose for keyword in python.\\n   If you use this keyword as variable, then compiler will get confused whether it is a variable or keyword.'"
      ]
     },
     "execution_count": 7,
     "metadata": {},
     "output_type": "execute_result"
    }
   ],
   "source": [
    "\"\"\"No,You cannot use keyword as a variable.\n",
    "   Example: Suppose for keyword in python.\n",
    "   If you use this keyword as variable, then compiler will get confused whether it is a variable or keyword.\"\"\""
   ]
  },
  {
   "cell_type": "markdown",
   "id": "4a64c9c3",
   "metadata": {},
   "source": [
    "# Q.3 Can we actually declare a string as a variable name."
   ]
  },
  {
   "cell_type": "code",
   "execution_count": 5,
   "id": "3f4aefab",
   "metadata": {},
   "outputs": [
    {
     "data": {
      "text/plain": [
       "'A string is a collection of characters stored as a single value.\\n   Unlike other technologies there is no need to explicitly declare strings in Python (for that matter any variable),\\n   you just need to assign strings to a literal this makes Python strings easy to use.'"
      ]
     },
     "execution_count": 5,
     "metadata": {},
     "output_type": "execute_result"
    }
   ],
   "source": [
    "\"\"\"A string is a collection of characters stored as a single value.\n",
    "   Unlike other technologies there is no need to explicitly declare strings in Python (for that matter any variable),\n",
    "   you just need to assign strings to a literal this makes Python strings easy to use.\"\"\""
   ]
  },
  {
   "cell_type": "markdown",
   "id": "6542a1fc",
   "metadata": {},
   "source": [
    "# Q.4 Is it possible for us to declare \"_\" as variable? If so, then write an example of it ."
   ]
  },
  {
   "cell_type": "code",
   "execution_count": 1,
   "id": "95705455",
   "metadata": {},
   "outputs": [
    {
     "name": "stdout",
     "output_type": "stream",
     "text": [
      "Pwskills\n",
      "5\n"
     ]
    }
   ],
   "source": [
    "# Single standalone underscore _ is a valid character for a Python identifier, so it can be used as a variable name\n",
    "# Example: -\n",
    "\n",
    "name=\"Pwskills\"\n",
    "_no = 5\n",
    "print(name)\n",
    "print(_no)"
   ]
  },
  {
   "cell_type": "markdown",
   "id": "526c7644",
   "metadata": {},
   "source": [
    "# Q.5 Using an example , explain how the variable in python are dynamic in nature."
   ]
  },
  {
   "cell_type": "code",
   "execution_count": 3,
   "id": "0b8ef3d5",
   "metadata": {},
   "outputs": [
    {
     "data": {
      "text/plain": [
       "'Dynamic typing means that the type of the variable is determined only during runtime.\\n   Due to strong typing, types need to be compatible with respect to the operand when performing operations.\\n   For example Python allows one to add an integer and a floating point number,\\n   but adding an integer to a string produces error.'"
      ]
     },
     "execution_count": 3,
     "metadata": {},
     "output_type": "execute_result"
    }
   ],
   "source": [
    "\"\"\"Dynamic typing means that the type of the variable is determined only during runtime.\n",
    "   Due to strong typing, types need to be compatible with respect to the operand when performing operations.\n",
    "   For example Python allows one to add an integer and a floating point number,\n",
    "   but adding an integer to a string produces error.\"\"\""
   ]
  },
  {
   "cell_type": "code",
   "execution_count": null,
   "id": "7b81b820",
   "metadata": {},
   "outputs": [],
   "source": []
  }
 ],
 "metadata": {
  "kernelspec": {
   "display_name": "Python 3 (ipykernel)",
   "language": "python",
   "name": "python3"
  },
  "language_info": {
   "codemirror_mode": {
    "name": "ipython",
    "version": 3
   },
   "file_extension": ".py",
   "mimetype": "text/x-python",
   "name": "python",
   "nbconvert_exporter": "python",
   "pygments_lexer": "ipython3",
   "version": "3.11.1"
  }
 },
 "nbformat": 4,
 "nbformat_minor": 5
}
