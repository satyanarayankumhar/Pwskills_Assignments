{
 "cells": [
  {
   "cell_type": "markdown",
   "id": "ddd51e1f-6837-4eb2-bdc6-49b4bb391656",
   "metadata": {},
   "source": [
    "## Q.1. How can we store a single quote (‘) as a string in a variable?"
   ]
  },
  {
   "cell_type": "code",
   "execution_count": 47,
   "id": "d0e4f8b5-10b2-4afd-94b9-70bcc217786f",
   "metadata": {},
   "outputs": [
    {
     "name": "stdout",
     "output_type": "stream",
     "text": [
      "'WithQuotes'\n"
     ]
    }
   ],
   "source": [
    "quote=\"'WithQuotes'\"\n",
    "print(quote)"
   ]
  },
  {
   "cell_type": "markdown",
   "id": "33a60f95-510f-4b06-aa84-ca2071026a6f",
   "metadata": {},
   "source": [
    "\"The first line of the program uses the print() function to print the string “'WithQuotes'” enclosed within single\n",
    "quotes. The inner single quotes are escaped using a backslash to prevent them from ending the string prematurely\""
   ]
  },
  {
   "cell_type": "markdown",
   "id": "5cd1a1fb-13a4-4b58-94d3-f955ba8a577e",
   "metadata": {},
   "source": [
    "## Q.2 Refer the below variable:\n",
    "x = ‘a'  \n",
    "Here, is x a character type or string type variable? Support your answer with an explanation."
   ]
  },
  {
   "cell_type": "code",
   "execution_count": 46,
   "id": "acc09b5d-343b-4fcb-852d-9d2ab18d284a",
   "metadata": {},
   "outputs": [
    {
     "data": {
      "text/plain": [
       "str"
      ]
     },
     "execution_count": 46,
     "metadata": {},
     "output_type": "execute_result"
    }
   ],
   "source": [
    "x = 'a'\n",
    "type(x)"
   ]
  },
  {
   "cell_type": "markdown",
   "id": "0c8b41c1-7be7-4292-845c-922262ae4fa7",
   "metadata": {},
   "source": [
    "Strings in Python are arrays of bytes representing Unicode characters. A string is a collection of one or more\n",
    "characters put in a single quote, double-quote, or triple-quote. In python there is no character data type, a character is a string of length one. It is represented by str class."
   ]
  },
  {
   "cell_type": "markdown",
   "id": "89e8274e-61bd-46fe-98a1-7eebc8fcebac",
   "metadata": {},
   "source": [
    "## Q.3 Apply the following functions on this variable: ‘Welcome to Python foundation course'\n",
    "1. find() function,\n",
    "2. count() function,\n",
    "3. len() function,\n",
    "4. Concatenation() function."
   ]
  },
  {
   "cell_type": "code",
   "execution_count": 24,
   "id": "b677c8b3-8f2f-48d8-b8a7-4cc6454aa117",
   "metadata": {},
   "outputs": [
    {
     "data": {
      "text/plain": [
       "11"
      ]
     },
     "execution_count": 24,
     "metadata": {},
     "output_type": "execute_result"
    }
   ],
   "source": [
    "s= \"Welcome to Python foundation course\"\n",
    "s1 = \" on PWSKILLS platform \"\n",
    "\n",
    "# Using Find() function:\n",
    "s.find(\"Python\")"
   ]
  },
  {
   "cell_type": "code",
   "execution_count": 21,
   "id": "f4036dce-68fd-4836-be12-9f577d34a863",
   "metadata": {},
   "outputs": [
    {
     "data": {
      "text/plain": [
       "6"
      ]
     },
     "execution_count": 21,
     "metadata": {},
     "output_type": "execute_result"
    }
   ],
   "source": [
    "# Using Count() function:\n",
    "s.count('o')"
   ]
  },
  {
   "cell_type": "code",
   "execution_count": 25,
   "id": "2fa0eada-2dec-4aca-af86-02b34b12b55d",
   "metadata": {},
   "outputs": [
    {
     "data": {
      "text/plain": [
       "35"
      ]
     },
     "execution_count": 25,
     "metadata": {},
     "output_type": "execute_result"
    }
   ],
   "source": [
    "# Using len() function:\n",
    "len(s)"
   ]
  },
  {
   "cell_type": "code",
   "execution_count": 26,
   "id": "4f884bf7-3a4f-49f3-98a5-013906b27ca7",
   "metadata": {
    "collapsed": true,
    "jupyter": {
     "outputs_hidden": true
    },
    "tags": []
   },
   "outputs": [
    {
     "data": {
      "text/plain": [
       "'Welcome to Python foundation course on PWSKILLS platform '"
      ]
     },
     "execution_count": 26,
     "metadata": {},
     "output_type": "execute_result"
    }
   ],
   "source": [
    "# Using Concatenation of two stings:\n",
    "s= s+s1\n",
    "s"
   ]
  },
  {
   "cell_type": "markdown",
   "id": "18d78822-da2f-4d92-80e7-ccab4c37063b",
   "metadata": {
    "tags": []
   },
   "source": [
    "## Q.4 For the variable: word = ‘PanaJi@12245'\n",
    "Calculate the following:  \n",
    "(a) Total number of alphabets in lowercase  \n",
    "(b) Total number of alphabets in uppercase   \n",
    "(c) Total number of numerical in string  "
   ]
  },
  {
   "cell_type": "code",
   "execution_count": 39,
   "id": "0cd4bb49-8958-4f80-a715-dd2fdf7e1e98",
   "metadata": {},
   "outputs": [
    {
     "name": "stdout",
     "output_type": "stream",
     "text": [
      "Original String :  PanaJi@12256\n",
      "Total number of alphabets in lowercase :  4\n",
      "Total number of alphabets in uppercase  :  2\n",
      "Total number of numerical in string :  5\n"
     ]
    }
   ],
   "source": [
    "word= \"PanaJi@12256\"\n",
    "sum_upper = 0\n",
    "sum_lower= 0\n",
    "sum_num = 0\n",
    "for c in word:\n",
    "        if c.isupper():\n",
    "            sum_upper+=1\n",
    "        elif c.islower():\n",
    "            sum_lower+=1\n",
    "        elif c.isnumeric():\n",
    "            sum_num+=1\n",
    "        else:\n",
    "            pass\n",
    "print (\"Original String : \", word)\n",
    "print (\"Total number of alphabets in lowercase : \", sum_lower)\n",
    "print (\"Total number of alphabets in uppercase  : \", sum_upper)\n",
    "print(\"Total number of numerical in string : \", sum_num)\n",
    "        "
   ]
  },
  {
   "cell_type": "markdown",
   "id": "9ea20b24-e382-4e92-8cc1-cd2d0ddd0487",
   "metadata": {},
   "source": [
    "## Q. 5 Write a code to store a numerical value inside a variable then convert it into string."
   ]
  },
  {
   "cell_type": "markdown",
   "id": "e5960b0f-d023-4b6d-8355-ab4e2d0d3fa1",
   "metadata": {},
   "source": [
    "In Python an integer can be converted into a string using the built-in str() function. The str() function takes in any python data type and converts it into a string. But use of the str() is not the only way to do so. This type of conversion can also be done using the “%s” keyword, the .format function or using f-string function."
   ]
  },
  {
   "cell_type": "code",
   "execution_count": 42,
   "id": "5d0e4812-afb3-4fb6-9db9-72ef4e965815",
   "metadata": {},
   "outputs": [
    {
     "name": "stdout",
     "output_type": "stream",
     "text": [
      "Type of variable before conversion :  <class 'int'>\n",
      "Type after conversion :  <class 'str'>\n"
     ]
    }
   ],
   "source": [
    "# Using { \"%s\" % vaiable_name }\n",
    "num = 10\n",
    " \n",
    "# check  and print type of num variable\n",
    "print(\"Type of variable before conversion : \", type(num)) \n",
    " \n",
    "# convert the num into string and print\n",
    "converted_num = \"% s\" % num\n",
    "print(\"Type after conversion : \", type(converted_num))"
   ]
  },
  {
   "cell_type": "code",
   "execution_count": 43,
   "id": "8e89b5d1-bd37-4464-a0fc-274f98ac79ae",
   "metadata": {},
   "outputs": [
    {
     "name": "stdout",
     "output_type": "stream",
     "text": [
      "Type of variable before conversion :  <class 'int'>\n",
      "Type after conversion :  <class 'str'>\n"
     ]
    }
   ],
   "source": [
    "# Using { str(vaiable_name) } :\n",
    "num = 10\n",
    " \n",
    "# check  and print type of num variable\n",
    "print(\"Type of variable before conversion : \", type(num)) \n",
    " \n",
    "# convert the num into string and print\n",
    "converted_num = str(num)\n",
    "print(\"Type after conversion : \", type(converted_num))"
   ]
  },
  {
   "cell_type": "code",
   "execution_count": 44,
   "id": "aba56882-12a6-4d3c-8355-c115ae6ba2cb",
   "metadata": {},
   "outputs": [
    {
     "name": "stdout",
     "output_type": "stream",
     "text": [
      "Type of variable before conversion :  <class 'int'>\n",
      "Type after conversion :  <class 'str'>\n"
     ]
    }
   ],
   "source": [
    "# Using { '{}'.formate(variable_name) }\n",
    "num = 10\n",
    " \n",
    "# check  and print type of num variable\n",
    "print(\"Type of variable before conversion : \", type(num)) \n",
    " \n",
    "# convert the num into string and print\n",
    "converted_num = '{}'.format(num)\n",
    "print(\"Type after conversion : \", type(converted_num))"
   ]
  },
  {
   "cell_type": "code",
   "execution_count": 45,
   "id": "45b54965-7df2-4e1b-92a5-ad97e8cdcdbd",
   "metadata": {},
   "outputs": [
    {
     "name": "stdout",
     "output_type": "stream",
     "text": [
      "Type of variable before conversion :  <class 'int'>\n",
      "Type after conversion :  <class 'str'>\n"
     ]
    }
   ],
   "source": [
    "# Using { f'{varibable_name}' }\n",
    "num = 10\n",
    " \n",
    "# check  and print type of num variable\n",
    "print(\"Type of variable before conversion : \", type(num)) \n",
    " \n",
    "# convert the num into string and print\n",
    "converted_num = f'{num}'\n",
    "print(\"Type after conversion : \", type(converted_num))"
   ]
  }
 ],
 "metadata": {
  "kernelspec": {
   "display_name": "Python 3 (ipykernel)",
   "language": "python",
   "name": "python3"
  },
  "language_info": {
   "codemirror_mode": {
    "name": "ipython",
    "version": 3
   },
   "file_extension": ".py",
   "mimetype": "text/x-python",
   "name": "python",
   "nbconvert_exporter": "python",
   "pygments_lexer": "ipython3",
   "version": "3.10.8"
  }
 },
 "nbformat": 4,
 "nbformat_minor": 5
}
